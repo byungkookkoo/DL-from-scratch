{
 "cells": [
  {
   "cell_type": "markdown",
   "id": "0158f74f",
   "metadata": {
    "pycharm": {
     "is_executing": true,
     "name": "#%%\n"
    }
   },
   "source": [
    "# Deep Learning from Scratch"
   ]
  },
  {
   "cell_type": "code",
   "execution_count": 2,
   "id": "97b19139",
   "metadata": {},
   "outputs": [],
   "source": [
    "import numpy as np\n",
    "import matplotlib.pyplot as plt"
   ]
  },
  {
   "cell_type": "markdown",
   "id": "f37ee31a",
   "metadata": {},
   "source": [
    "## Chap. 3: Neural Networks\n",
    "* Although complex functions can be expressed by perceptron, setting appropriate weights is needed\n",
    "    * For example, Setting weights for logical circuits in chapter 2\n",
    "* Neural networks can learn weight parameters from data"
   ]
  },
  {
   "cell_type": "markdown",
   "id": "4541760d",
   "metadata": {},
   "source": [
    "## 3.1 Perceptron to Neural Networks"
   ]
  },
  {
   "cell_type": "markdown",
   "id": "dc7d9aed",
   "metadata": {},
   "source": [
    "### NN(Neural Network) composition\n",
    "* Input layer \n",
    "* Hidden layer\n",
    "* Output layer"
   ]
  },
  {
   "cell_type": "markdown",
   "id": "c367f330",
   "metadata": {},
   "source": [
    "### Reviewing simple perceptron\n",
    "\n",
    "$y = 0\\;(b+  w_1x_1 + w_2x_2 \\leq 0)$ \n",
    "\n",
    "$y = 1\\;(b + w_1x_1 + w_2x_2 > 0)$ \n",
    "\n",
    "* $b$ = bias parameter, how easily neuron activates\n",
    "* $w$ = weight parameter controls influence of inputs\n",
    "\n",
    "This equation can be expressed with using activation function $h(x)$ like\n",
    "\n",
    "$y = h(b+  w_1x_1 + w_2x_2)$ \n",
    "\n",
    "$h(x) = 0\\;(x \\leq 0)$ \n",
    "\n",
    "$h(x) = 1\\;(x > 0)$ "
   ]
  },
  {
   "cell_type": "markdown",
   "id": "8dfb171c",
   "metadata": {},
   "source": [
    "### Activation function(brief)\n",
    "&rarr; function that converts total input signal to output signal\n",
    "\n",
    "$a = b + w_1x_1 + w_2x_2$ \n",
    "\n",
    "$y = h(a)$ "
   ]
  },
  {
   "cell_type": "markdown",
   "id": "b9a9225c",
   "metadata": {},
   "source": [
    "## 3.2 Activation function\n",
    "\n",
    "* Uses non-linear function\n",
    "    * If uses linear function as activation, it is meaningless of deep neural network\n",
    "    * Ex) for linear activation function a(x), a(a(a(a(a(a(x))))) = k(x)\n",
    "    \n",
    "    &rarr; Can express network without hidden layer"
   ]
  },
  {
   "cell_type": "markdown",
   "id": "70724d00",
   "metadata": {},
   "source": [
    "### 0. Step function\n",
    "&rarr; return changes to the threshold"
   ]
  },
  {
   "cell_type": "code",
   "execution_count": 1,
   "id": "865b1c3c",
   "metadata": {},
   "outputs": [],
   "source": [
    "def step_function(x, threshold):\n",
    "    if x > threshold:\n",
    "        return 1\n",
    "    else:\n",
    "        return 0"
   ]
  },
  {
   "cell_type": "code",
   "execution_count": 4,
   "id": "4749e5d2",
   "metadata": {},
   "outputs": [
    {
     "data": {
      "image/png": "[encoded data removed]",
      "text/plain": [
       "<Figure size 432x288 with 1 Axes>"
      ]
     },
     "metadata": {
      "needs_background": "light"
     },
     "output_type": "display_data"
    }
   ],
   "source": [
    "# visualization of step function\n",
    "# different return value at the boundry of 0, threshold\n",
    "def step_function(x):\n",
    "    return np.array(x > 0, dtype = int)\n",
    "\n",
    "x = np.arange(-5.0, 5.0, 0.1)\n",
    "y = step_function(x)\n",
    "plt.plot(x, y)\n",
    "plt.ylim(-0.1, 1.1)\n",
    "plt.show()"
   ]
  },
  {
   "cell_type": "markdown",
   "id": "4d8af21d",
   "metadata": {},
   "source": [
    "### 1. Sigmoid function\n",
    "\n",
    "$sigmoid(x) = \\frac{1}{1 + e^{-x}}$"
   ]
  },
  {
   "cell_type": "code",
   "execution_count": 6,
   "id": "a72688a3",
   "metadata": {},
   "outputs": [
    {
     "data": {
      "image/png": "[encoded data removed]",
      "text/plain": [
       "<Figure size 432x288 with 1 Axes>"
      ]
     },
     "metadata": {
      "needs_background": "light"
     },
     "output_type": "display_data"
    }
   ],
   "source": [
    "def sigmoid(x):\n",
    "    return 1 / (1 + np.exp(-x))\n",
    "\n",
    "x = np.arange(-5.0, 5.0, 0.1)\n",
    "y = sigmoid(x)\n",
    "plt.plot(x, y)\n",
    "plt.ylim(-0.1, 1.1)\n",
    "plt.show()"
   ]
  },
  {
   "cell_type": "markdown",
   "id": "e0fe1cd0",
   "metadata": {},
   "source": [
    "### 2. ReLU(Rectified Linear Unit) function\n",
    "\n",
    "$h(x) = x(x>0)$\n",
    "\n",
    "$h(x) = 0(x\\leq0)$"
   ]
  },
  {
   "cell_type": "code",
   "execution_count": 9,
   "id": "e749a938",
   "metadata": {},
   "outputs": [
    {
     "data": {
      "image/png": "[encoded data removed]",
      "text/plain": [
       "<Figure size 432x288 with 1 Axes>"
      ]
     },
     "metadata": {
      "needs_background": "light"
     },
     "output_type": "display_data"
    }
   ],
   "source": [
    "def relu(x):\n",
    "    return np.maximum(0, x)\n",
    "\n",
    "x = np.arange(-5.0, 5.0, 0.1)\n",
    "y = relu(x)\n",
    "plt.plot(x, y)\n",
    "plt.show()"
   ]
  }
 ],
 "metadata": {
  "kernelspec": {
   "display_name": "ptorch",
   "language": "python",
   "name": "ptorch"
  },
  "language_info": {
   "codemirror_mode": {
    "name": "ipython",
    "version": 3
   },
   "file_extension": ".py",
   "mimetype": "text/x-python",
   "name": "python",
   "nbconvert_exporter": "python",
   "pygments_lexer": "ipython3",
   "version": "3.9.12"
  }
 },
 "nbformat": 4,
 "nbformat_minor": 5
}
