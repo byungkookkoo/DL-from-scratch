{
 "cells": [
  {
   "cell_type": "markdown",
   "id": "0158f74f",
   "metadata": {
    "pycharm": {
     "is_executing": true,
     "name": "#%%\n"
    }
   },
   "source": [
    "# Deep Learning from Scratch"
   ]
  },
  {
   "cell_type": "markdown",
   "id": "f37ee31a",
   "metadata": {},
   "source": [
    "## Chap. 1: hello python\n",
    "Reviewing numpy, (1.5 to )"
   ]
  },
  {
   "cell_type": "code",
   "execution_count": 1,
   "id": "b048a332",
   "metadata": {
    "scrolled": true
   },
   "outputs": [],
   "source": [
    "# import something as ~~\n",
    "import numpy as np"
   ]
  },
  {
   "cell_type": "code",
   "execution_count": 3,
   "id": "a6cc2e94",
   "metadata": {
    "scrolled": true
   },
   "outputs": [
    {
     "name": "stdout",
     "output_type": "stream",
     "text": [
      "[1. 2. 3.]\n",
      "type of numpy array x :  <class 'numpy.ndarray'>\n"
     ]
    }
   ],
   "source": [
    "# making numpy array\n",
    "x = np.array([1.0, 2.0, 3.0])\n",
    "print(x)\n",
    "print(\"type of numpy array x : \", type(x))"
   ]
  },
  {
   "cell_type": "markdown",
   "id": "0b5101ec",
   "metadata": {},
   "source": [
    "* Arithmetic operation between numpy arrays(element-wise)\n",
    "\n",
    "* Arithmetic operation between numpy array and single scalar(broadcast)"
   ]
  },
  {
   "cell_type": "code",
   "execution_count": 7,
   "id": "b15b0a0c",
   "metadata": {
    "scrolled": true
   },
   "outputs": [
    {
     "name": "stdout",
     "output_type": "stream",
     "text": [
      "x + y =  [3. 6. 9.]\n",
      "x - y =  [-1. -2. -3.]\n",
      "x * y =  [ 2.  8. 18.]\n",
      "x / y =  [0.5 0.5 0.5]\n",
      "x / 2.0 =  [0.5 1.  1.5]\n"
     ]
    }
   ],
   "source": [
    "x = np.array([1.0, 2.0, 3.0])\n",
    "y= np.array([2.0, 4.0, 6.0])\n",
    "\n",
    "# element-wise arithmetic operation\n",
    "print(\"x + y = \", x + y)\n",
    "print(\"x - y = \", x - y)\n",
    "print(\"x * y = \", x * y)\n",
    "print(\"x / y = \", x / y)\n",
    "\n",
    "# broadcast(numpy array, single scalar)\n",
    "print(\"x / 2.0 = \", x / 2.0)"
   ]
  }
 ],
 "metadata": {
  "kernelspec": {
   "display_name": "ptorch",
   "language": "python",
   "name": "ptorch"
  },
  "language_info": {
   "codemirror_mode": {
    "name": "ipython",
    "version": 3
   },
   "file_extension": ".py",
   "mimetype": "text/x-python",
   "name": "python",
   "nbconvert_exporter": "python",
   "pygments_lexer": "ipython3",
   "version": "3.9.12"
  }
 },
 "nbformat": 4,
 "nbformat_minor": 5
}
