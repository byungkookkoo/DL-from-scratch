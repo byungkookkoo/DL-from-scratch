{
 "cells": [
  {
   "cell_type": "markdown",
   "id": "0158f74f",
   "metadata": {
    "pycharm": {
     "is_executing": true,
     "name": "#%%\n"
    }
   },
   "source": [
    "# Deep Learning from Scratch"
   ]
  },
  {
   "cell_type": "code",
   "execution_count": 1,
   "id": "97b19139",
   "metadata": {},
   "outputs": [],
   "source": [
    "import numpy as np\n",
    "import matplotlib.pyplot as plt"
   ]
  },
  {
   "cell_type": "markdown",
   "id": "f37ee31a",
   "metadata": {},
   "source": [
    "## Chap. 2: Perceptron\n",
    "Perceptron: Origin of Neural Network\n",
    "\n",
    "$y = 0\\;(w_1x_1 + w_2x_2 \\leq \\theta)$ \n",
    "\n",
    "$y = 1\\;(w_1x_1 + w_2x_2 > \\theta)$ "
   ]
  },
  {
   "cell_type": "markdown",
   "id": "6f04b311",
   "metadata": {},
   "source": [
    "## 2.2 Simple logical circuit\n",
    "\n",
    "* AND gate\n",
    "    * returns 1 only if all inputs are 1, 0 otherwise\n",
    "* NAND(Not AND)\n",
    "    * returns 0 only if all inputs are 1, 1 otherwise\n",
    "* OR gate\n",
    "    * returns 1 if there exists input with 1, 0 otherwise "
   ]
  },
  {
   "cell_type": "markdown",
   "id": "9a4608a4",
   "metadata": {},
   "source": [
    "## 2.3 Implement Perceptron"
   ]
  },
  {
   "cell_type": "code",
   "execution_count": 12,
   "id": "c1f8b5df",
   "metadata": {},
   "outputs": [
    {
     "name": "stdout",
     "output_type": "stream",
     "text": [
      "AND(0, 0) = 0 \n",
      "AND(1, 0) = 0 \n",
      "AND(0, 1) = 0 \n",
      "AND(1, 1) = 1 \n"
     ]
    }
   ],
   "source": [
    "# AND gate with weights & bias\n",
    "def AND(x1, x2):\n",
    "    w1, w2, theta = 0.5, 0.5, 0.7\n",
    "    opt = x1*w1 + x2*w2\n",
    "    if opt > theta:\n",
    "        return 1\n",
    "    elif opt <= theta:\n",
    "        return 0 \n",
    "    \n",
    "print(\"AND(%d, %d) = %d \"%(0, 0, AND(0, 0)))\n",
    "print(\"AND(%d, %d) = %d \"%(1, 0, AND(1, 0)))\n",
    "print(\"AND(%d, %d) = %d \"%(0, 1, AND(0, 1)))\n",
    "print(\"AND(%d, %d) = %d \"%(1, 1, AND(1, 1)))"
   ]
  },
  {
   "cell_type": "code",
   "execution_count": 15,
   "id": "d027d76c",
   "metadata": {},
   "outputs": [
    {
     "name": "stdout",
     "output_type": "stream",
     "text": [
      "w*x + b =  -0.19999999999999996\n"
     ]
    }
   ],
   "source": [
    "x = np.array([0, 1])\n",
    "w = np.array([0.5, 0.5])\n",
    "b = -0.7\n",
    "print(\"w*x + b = \", (np.sum(x*w) + b))"
   ]
  },
  {
   "cell_type": "markdown",
   "id": "7e5174de",
   "metadata": {},
   "source": [
    "### Can implement AND, NAND, OR gate using perceptron with same architecture"
   ]
  },
  {
   "cell_type": "code",
   "execution_count": 2,
   "id": "6dca1ba3",
   "metadata": {},
   "outputs": [],
   "source": [
    "# AND gate with weights & bias using numpy\n",
    "# w*x < theta => w*x + bias(- theta) < 0\n",
    "def AND(x1, x2):\n",
    "    x = np.array([x1, x2])\n",
    "    w = np.array([0.5, 0.5])\n",
    "    b = -0.7\n",
    "    opt = np.sum(w*x) + b\n",
    "    if opt > 0:\n",
    "        return 1\n",
    "    else:\n",
    "        return 0\n",
    "\n",
    "def NAND(x1, x2):\n",
    "    x = np.array([x1, x2])\n",
    "    w = np.array([-0.5, -0.5])\n",
    "    b = 0.7\n",
    "    opt = np.sum(w*x) + b\n",
    "    if opt > 0:\n",
    "        return 1\n",
    "    else:\n",
    "        return 0\n",
    "    \n",
    "def OR(x1, x2):\n",
    "    x = np.array([x1, x2])\n",
    "    w = np.array([0.5, 0.5])\n",
    "    b = -0.2\n",
    "    opt = np.sum(w*x) + b\n",
    "    if opt > 0:\n",
    "        return 1\n",
    "    else:\n",
    "        return 0"
   ]
  },
  {
   "cell_type": "markdown",
   "id": "4acb09d1",
   "metadata": {},
   "source": [
    "## 2.4 Perceptron: Limitation\n",
    "\n",
    "* There cannot implement XOR gate with simple perceptron\n",
    "    * Non-linear methods to be needed"
   ]
  },
  {
   "cell_type": "markdown",
   "id": "60072253",
   "metadata": {},
   "source": [
    "## 2.5 XOR gate with MLP(Multi Layer Perceptron)\n",
    "\n",
    "* Implementing XOR gate with multi-layer perceptron"
   ]
  },
  {
   "cell_type": "code",
   "execution_count": 3,
   "id": "cc7ba667",
   "metadata": {},
   "outputs": [
    {
     "name": "stdout",
     "output_type": "stream",
     "text": [
      "XOR(0, 0) = 0 \n",
      "XOR(1, 0) = 1 \n",
      "XOR(0, 1) = 1 \n",
      "XOR(1, 1) = 0 \n"
     ]
    }
   ],
   "source": [
    "def XOR(x1, x2):\n",
    "    out1 = NAND(x1, x2)\n",
    "    out2 = OR(x1, x2)\n",
    "    opt = AND(out1, out2)\n",
    "    return opt\n",
    "\n",
    "print(\"XOR(%d, %d) = %d \"%(0, 0, XOR(0, 0)))\n",
    "print(\"XOR(%d, %d) = %d \"%(1, 0, XOR(1, 0)))\n",
    "print(\"XOR(%d, %d) = %d \"%(0, 1, XOR(0, 1)))\n",
    "print(\"XOR(%d, %d) = %d \"%(1, 1, XOR(1, 1)))"
   ]
  },
  {
   "cell_type": "markdown",
   "id": "539d762a",
   "metadata": {},
   "source": [
    "## 2.6 from NAND to Computer\n",
    "\n",
    "* Can implement more complicated circuits like adder, encoder(DEC <-> BIN), so on.\n",
    "* Extremely, even computer can be implemented by using NAND gate(based on perceptron?)\n",
    "    * with 2-layer perceptron, non-linear activation function(like sigmoid)\n",
    "    * Reference: [Universal Approximation theorem](https://cognitivemedium.com/magic_paper/assets/Hornik.pdf)"
   ]
  }
 ],
 "metadata": {
  "kernelspec": {
   "display_name": "ptorch",
   "language": "python",
   "name": "ptorch"
  },
  "language_info": {
   "codemirror_mode": {
    "name": "ipython",
    "version": 3
   },
   "file_extension": ".py",
   "mimetype": "text/x-python",
   "name": "python",
   "nbconvert_exporter": "python",
   "pygments_lexer": "ipython3",
   "version": "3.9.12"
  }
 },
 "nbformat": 4,
 "nbformat_minor": 5
}
