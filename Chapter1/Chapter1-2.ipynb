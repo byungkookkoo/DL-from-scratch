{
 "cells": [
  {
   "cell_type": "markdown",
   "id": "0158f74f",
   "metadata": {
    "pycharm": {
     "is_executing": true,
     "name": "#%%\n"
    }
   },
   "source": [
    "# Deep Learning from Scratch"
   ]
  },
  {
   "cell_type": "markdown",
   "id": "f37ee31a",
   "metadata": {},
   "source": [
    "## Chap. 1: hello python\n",
    "Reviewing numpy(1.5)"
   ]
  },
  {
   "cell_type": "code",
   "execution_count": 3,
   "id": "b048a332",
   "metadata": {
    "scrolled": true
   },
   "outputs": [],
   "source": [
    "# import something as ~~\n",
    "import numpy as np"
   ]
  },
  {
   "cell_type": "code",
   "execution_count": 4,
   "id": "a6cc2e94",
   "metadata": {
    "scrolled": true
   },
   "outputs": [
    {
     "name": "stdout",
     "output_type": "stream",
     "text": [
      "[1. 2. 3.]\n",
      "type of numpy array x :  <class 'numpy.ndarray'>\n"
     ]
    }
   ],
   "source": [
    "# Making numpy array\n",
    "x = np.array([1.0, 2.0, 3.0])\n",
    "print(x)\n",
    "print(\"type of numpy array x : \", type(x))"
   ]
  },
  {
   "cell_type": "markdown",
   "id": "0b5101ec",
   "metadata": {},
   "source": [
    "* Arithmetic operation between numpy arrays(element-wise)\n",
    "\n",
    "* Operation between different shapes(broadcast)"
   ]
  },
  {
   "cell_type": "code",
   "execution_count": 5,
   "id": "b15b0a0c",
   "metadata": {
    "scrolled": true
   },
   "outputs": [
    {
     "name": "stdout",
     "output_type": "stream",
     "text": [
      "x + y =  [3. 6. 9.]\n",
      "x - y =  [-1. -2. -3.]\n",
      "x * y =  [ 2.  8. 18.]\n",
      "x / y =  [0.5 0.5 0.5]\n",
      "x / 2.0 =  [0.5 1.  1.5]\n"
     ]
    }
   ],
   "source": [
    "x = np.array([1.0, 2.0, 3.0])\n",
    "y= np.array([2.0, 4.0, 6.0])\n",
    "\n",
    "# Element-wise arithmetic operation\n",
    "print(\"x + y = \", x + y)\n",
    "print(\"x - y = \", x - y)\n",
    "print(\"x * y = \", x * y)\n",
    "print(\"x / y = \", x / y)\n",
    "\n",
    "# Broadcast(numpy array, single scalar)\n",
    "print(\"x / 2.0 = \", x / 2.0)"
   ]
  },
  {
   "cell_type": "markdown",
   "id": "9b21940c",
   "metadata": {},
   "source": [
    "* Can make N-dim array with numpy\n",
    "    * 1-dim array = vector \n",
    "    * 2-dim array = matrix\n",
    "    * Generalized vectors, matrix = tensor "
   ]
  },
  {
   "cell_type": "code",
   "execution_count": 16,
   "id": "9b937cf8",
   "metadata": {
    "scrolled": true
   },
   "outputs": [
    {
     "name": "stdout",
     "output_type": "stream",
     "text": [
      "[[1 2]\n",
      " [3 4]]\n",
      "Shape of A:  (2, 2)\n",
      "Data type of A:  int32\n",
      "A + B =  [[ 4  2]\n",
      " [ 3 10]]\n",
      "A * B =  [[ 3  0]\n",
      " [ 0 24]]\n",
      "A * 10 =  [[10 20]\n",
      " [30 40]]\n",
      "A * C =  [[10 40]\n",
      " [30 80]]\n"
     ]
    }
   ],
   "source": [
    "# N-dim numpy array\n",
    "\n",
    "A = np.array([[1, 2], [3, 4]])\n",
    "print(A)\n",
    "print(\"Shape of A: \", A.shape)\n",
    "print(\"Data type of A: \", A.dtype)\n",
    "\n",
    "# Element-wise operations with same shape\n",
    "B = np.array([[3, 0], [0, 6]])\n",
    "print(\"A + B = \", A + B)\n",
    "print(\"A * B = \", A * B)\n",
    "\n",
    "# Broadcast(2-dim array, single scalar)\n",
    "print(\"A * 10 = \", A * 10)\n",
    "\n",
    "# Broadcast(2-dim array, 1-dim array)\n",
    "C = np.array([10, 20])\n",
    "print(\"A * C = \", A * C)"
   ]
  },
  {
   "cell_type": "code",
   "execution_count": 19,
   "id": "a96ec52d",
   "metadata": {},
   "outputs": [
    {
     "name": "stdout",
     "output_type": "stream",
     "text": [
      "[[51 55]\n",
      " [14 19]\n",
      " [ 0  4]]\n",
      "Elements of 0th row:  [51 55]\n",
      "Element of 0th row, 1th column:  55\n",
      "[51 55]\n",
      "[14 19]\n",
      "[0 4]\n"
     ]
    }
   ],
   "source": [
    "# Access to element of numpy array\n",
    "X = np.array([[51, 55], [14, 19], [0, 4]])\n",
    "print(X)\n",
    "print(\"Elements of 0th row: \", X[0])\n",
    "print(\"Element of 0th row, 1th column: \", X[0][1])"
   ]
  },
  {
   "cell_type": "code",
   "execution_count": 20,
   "id": "9762e3b3",
   "metadata": {
    "scrolled": true
   },
   "outputs": [
    {
     "name": "stdout",
     "output_type": "stream",
     "text": [
      "[51 55]\n",
      "[14 19]\n",
      "[0 4]\n"
     ]
    }
   ],
   "source": [
    "# Can access each element by using for\n",
    "for row in X:\n",
    "    print(row)"
   ]
  },
  {
   "cell_type": "code",
   "execution_count": 26,
   "id": "f81da9ea",
   "metadata": {
    "scrolled": false
   },
   "outputs": [
    {
     "name": "stdout",
     "output_type": "stream",
     "text": [
      "[51 55 14 19  0  4]\n",
      "Elements of index 0, 2, 4:  [51 14  0]\n",
      "[ True  True False  True False False]\n",
      "[51 55 19]\n"
     ]
    }
   ],
   "source": [
    "# Can access multiple elements by flattens array\n",
    "X_flat = X.flatten()\n",
    "print(X_flat)\n",
    "print(\"Elements of index 0, 2, 4: \", X_flat[np.array([0, 2, 4])])\n",
    "\n",
    "# Get elements that satisfy certain condition\n",
    "print(X_flat > 15)\n",
    "print(X_flat[X_flat > 15])"
   ]
  }
 ],
 "metadata": {
  "kernelspec": {
   "display_name": "ptorch",
   "language": "python",
   "name": "ptorch"
  },
  "language_info": {
   "codemirror_mode": {
    "name": "ipython",
    "version": 3
   },
   "file_extension": ".py",
   "mimetype": "text/x-python",
   "name": "python",
   "nbconvert_exporter": "python",
   "pygments_lexer": "ipython3",
   "version": "3.9.12"
  }
 },
 "nbformat": 4,
 "nbformat_minor": 5
}
