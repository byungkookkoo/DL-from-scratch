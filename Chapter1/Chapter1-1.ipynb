{
 "cells": [
  {
   "cell_type": "markdown",
   "id": "0158f74f",
   "metadata": {
    "pycharm": {
     "is_executing": true,
     "name": "#%%\n"
    }
   },
   "source": [
    "# Deep Learning from Scratch"
   ]
  },
  {
   "cell_type": "markdown",
   "id": "f37ee31a",
   "metadata": {},
   "source": [
    "## Chap. 1: hello python\n",
    "Reviewing python basics(1.1 to 1.4)"
   ]
  },
  {
   "cell_type": "code",
   "execution_count": 5,
   "id": "b048a332",
   "metadata": {
    "scrolled": true
   },
   "outputs": [
    {
     "name": "stdout",
     "output_type": "stream",
     "text": [
      "Python 3.9.12\n"
     ]
    }
   ],
   "source": [
    "# use shell commands in jupyter env. with putting ! front of commands\n",
    "!python --version"
   ]
  },
  {
   "cell_type": "code",
   "execution_count": 9,
   "id": "a6cc2e94",
   "metadata": {},
   "outputs": [
    {
     "name": "stdout",
     "output_type": "stream",
     "text": [
      "type of 10: <class 'int'>\n",
      "type of 2.718: <class 'float'>\n",
      "type of 'hello': <class 'str'>\n"
     ]
    }
   ],
   "source": [
    "# type() method to get data type\n",
    "print(\"type of 10:\", type(10))\n",
    "print(\"type of 2.718:\", type(2.718))\n",
    "print(\"type of 'hello':\", type(\"hello\"))"
   ]
  },
  {
   "cell_type": "code",
   "execution_count": 20,
   "id": "b15b0a0c",
   "metadata": {
    "scrolled": true
   },
   "outputs": [
    {
     "name": "stdout",
     "output_type": "stream",
     "text": [
      "Initialize x : 10\n",
      "Change value of x : 100\n",
      "multiplicate two variables x, y : 314.0\n",
      "get data type of x * y :  <class 'float'>\n"
     ]
    }
   ],
   "source": [
    "# use alphabets or something to define variables\n",
    "x = 10 \n",
    "print(\"Initialize x :\", x)\n",
    "\n",
    "x = 100 # changes values \n",
    "print(\"Change value of x :\", x)\n",
    "\n",
    "y = 3.14 \n",
    "print(\"multiplicate two variables x, y :\", x * y)\n",
    "\n",
    "print(\"get data type of x * y : \",type(x * y))"
   ]
  },
  {
   "cell_type": "code",
   "execution_count": 25,
   "id": "553c23ed",
   "metadata": {},
   "outputs": [
    {
     "name": "stdout",
     "output_type": "stream",
     "text": [
      "<class 'bool'>\n",
      "False\n",
      "False\n",
      "True\n"
     ]
    }
   ],
   "source": [
    "# use boolean type to express true or false\n",
    "hungry = True\n",
    "sleepy = False \n",
    "\n",
    "print(type(hungry))\n",
    "print(not hungry) # False \n",
    "print(hungry and sleepy) # False \n",
    "print(hungry or sleepy) # True"
   ]
  },
  {
   "cell_type": "code",
   "execution_count": 29,
   "id": "01e5d23b",
   "metadata": {},
   "outputs": [
    {
     "name": "stdout",
     "output_type": "stream",
     "text": [
      "I am hungry\n"
     ]
    }
   ],
   "source": [
    "# if/else to deal with condition\n",
    "if hungry:\n",
    "    print(\"I am hungry\")\n",
    "else: \n",
    "    print(\"I am not hungry\")\n",
    "    print(\"I am sleepy\")\n"
   ]
  },
  {
   "cell_type": "code",
   "execution_count": 33,
   "id": "ac7075c8",
   "metadata": {},
   "outputs": [
    {
     "name": "stdout",
     "output_type": "stream",
     "text": [
      "1\n",
      "2\n",
      "3\n"
     ]
    }
   ],
   "source": [
    "# 'for' for loop\n",
    "for i in range(1, 4):\n",
    "    print(i)"
   ]
  },
  {
   "cell_type": "code",
   "execution_count": 36,
   "id": "3114aefb",
   "metadata": {},
   "outputs": [
    {
     "name": "stdout",
     "output_type": "stream",
     "text": [
      "Hello\n",
      "Hello\n",
      "Hello\n"
     ]
    }
   ],
   "source": [
    "# defining function\n",
    "def hello(iter):\n",
    "    for i in range(iter):\n",
    "        print(\"Hello\")\n",
    "\n",
    "hello(3)"
   ]
  },
  {
   "cell_type": "code",
   "execution_count": 42,
   "id": "31d9aab3",
   "metadata": {},
   "outputs": [
    {
     "name": "stdout",
     "output_type": "stream",
     "text": [
      "Hello cat !\n"
     ]
    }
   ],
   "source": [
    "# defining function\n",
    "def hello_to(obj):\n",
    "    print(\"Hello\", obj, \"!\")\n",
    "\n",
    "hello_to(\"cat\")"
   ]
  },
  {
   "cell_type": "code",
   "execution_count": 43,
   "id": "eba61963",
   "metadata": {},
   "outputs": [
    {
     "name": "stdout",
     "output_type": "stream",
     "text": [
      "Initialized ! \n",
      "Hello Ban!\n",
      "Good-bye Ban!\n"
     ]
    }
   ],
   "source": [
    "# class defining\n",
    "class Man:\n",
    "    def __init__(self, name):\n",
    "        self.name = name \n",
    "        print(\"Initialized ! \")\n",
    "    \n",
    "    def hello(self):\n",
    "        print(\"Hello \" + self.name + \"!\")\n",
    "    \n",
    "    def goodbye(self):\n",
    "        print(\"Good-bye \" + self.name + \"!\")\n",
    "        \n",
    "m = Man(\"Ban\")\n",
    "m.hello()\n",
    "m.goodbye()"
   ]
  }
 ],
 "metadata": {
  "kernelspec": {
   "display_name": "ptorch",
   "language": "python",
   "name": "ptorch"
  },
  "language_info": {
   "codemirror_mode": {
    "name": "ipython",
    "version": 3
   },
   "file_extension": ".py",
   "mimetype": "text/x-python",
   "name": "python",
   "nbconvert_exporter": "python",
   "pygments_lexer": "ipython3",
   "version": "3.9.12"
  }
 },
 "nbformat": 4,
 "nbformat_minor": 5
}
